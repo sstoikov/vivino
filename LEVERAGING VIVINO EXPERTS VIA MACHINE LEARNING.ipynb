{
 "cells": [
  {
   "cell_type": "code",
   "execution_count": 43,
   "metadata": {},
   "outputs": [],
   "source": [
    "import statsmodels.api as sm\n",
    "import matplotlib.pyplot as plt\n",
    "import numpy as np\n",
    "import matplotlib.pyplot as plt\n",
    "from matplotlib.ticker import PercentFormatter\n",
    "import seaborn as sns\n",
    "import json\n",
    "import re\n",
    "import time\n",
    "import pandas as pd\n",
    "import warnings\n",
    "warnings.filterwarnings(\"ignore\")"
   ]
  },
  {
   "cell_type": "code",
   "execution_count": 44,
   "metadata": {},
   "outputs": [],
   "source": [
    "%matplotlib inline"
   ]
  },
  {
   "cell_type": "markdown",
   "metadata": {},
   "source": [
    "# Vivino ratings"
   ]
  },
  {
   "cell_type": "code",
   "execution_count": 45,
   "metadata": {},
   "outputs": [],
   "source": [
    "# this is a processing of the original file found on\n",
    "# the Colorado index of Complex Networks (https://icon.colorado.edu/networks). "
   ]
  },
  {
   "cell_type": "code",
   "execution_count": 46,
   "metadata": {},
   "outputs": [],
   "source": [
    "def process_file(filename):\n",
    "    df_vivino=pd.read_json(filename, lines=True)\n",
    "    x=df_vivino['taste_profile'].iloc[0]\n",
    "    #ratings=re.findall(r\"\\{.*?\\}\", x)\n",
    "    #row_df=pd.json_normalize(json.loads(ratings[0].replace(\"'\",'\"')))\n",
    "    i=0\n",
    "    t = time.time()\n",
    "    for index, row in df_vivino.iterrows():\n",
    "        \n",
    "\n",
    "        ratings=re.findall(r\"\\{.*?\\}\", row['taste_profile'])\n",
    "        for rating in ratings:\n",
    "            rating.replace(\"'\",'\"')\n",
    "            row=pd.json_normalize(json.loads(rating.replace(\"'\",'\"')))\n",
    "            row['user_id']=int(df_vivino['id'].iloc[i][5:])\n",
    "            row['user_country']=(df_vivino['country'].iloc[i])\n",
    "            row['average_rating']=float(row['average_rating'])\n",
    "            row['number_ratings']=float(row['number_ratings'])\n",
    "            row['wine_region']=(row['wine_region'])\n",
    "            #print(row)\n",
    "            row = row[['user_id','user_country','wine_region','regional_style','average_rating','number_ratings']]\n",
    "            row.to_csv('vivino_regional_styles.csv', mode='a', index=False, header=False)\n",
    "            #row_df=pd.concat([row_df, row])\n",
    "        i=i+1\n",
    "        if i%1000==0: \n",
    "            elapsed = time.time() - t\n",
    "            print(i,elapsed)\n",
    "            t = time.time()\n",
    "        else:\n",
    "            continue"
   ]
  },
  {
   "cell_type": "code",
   "execution_count": 47,
   "metadata": {},
   "outputs": [],
   "source": [
    "#process_file('vivino_user_taste_profiles.json')"
   ]
  },
  {
   "cell_type": "markdown",
   "metadata": {},
   "source": [
    "# load Colorado dataset"
   ]
  },
  {
   "cell_type": "code",
   "execution_count": 48,
   "metadata": {},
   "outputs": [],
   "source": [
    "colnames=['user_id', 'user_country','wine_region', 'regional_style', 'average_rating','number_ratings'] \n",
    "row_df = pd.read_csv('vivino_regional_styles.csv', names=colnames, header=None)\n",
    "row_df['number_ratings']=row_df['number_ratings'].astype(int)\n",
    "row_df['user']=row_df['user_id']\n",
    "row_df['item']=row_df['regional_style'].str.replace('/wine-styles/','')\n",
    "row_df['rating']=row_df['average_rating']\n",
    "row_df['item_country']=row_df['wine_region']"
   ]
  },
  {
   "cell_type": "code",
   "execution_count": 49,
   "metadata": {},
   "outputs": [
    {
     "data": {
      "text/html": [
       "<div>\n",
       "<style scoped>\n",
       "    .dataframe tbody tr th:only-of-type {\n",
       "        vertical-align: middle;\n",
       "    }\n",
       "\n",
       "    .dataframe tbody tr th {\n",
       "        vertical-align: top;\n",
       "    }\n",
       "\n",
       "    .dataframe thead th {\n",
       "        text-align: right;\n",
       "    }\n",
       "</style>\n",
       "<table border=\"1\" class=\"dataframe\">\n",
       "  <thead>\n",
       "    <tr style=\"text-align: right;\">\n",
       "      <th></th>\n",
       "      <th>user_id</th>\n",
       "      <th>user_country</th>\n",
       "      <th>wine_region</th>\n",
       "      <th>regional_style</th>\n",
       "      <th>average_rating</th>\n",
       "      <th>number_ratings</th>\n",
       "      <th>user</th>\n",
       "      <th>item</th>\n",
       "      <th>rating</th>\n",
       "      <th>item_country</th>\n",
       "    </tr>\n",
       "  </thead>\n",
       "  <tbody>\n",
       "    <tr>\n",
       "      <th>0</th>\n",
       "      <td>2</td>\n",
       "      <td>Australia</td>\n",
       "      <td>Spain</td>\n",
       "      <td>/wine-styles/spanish-grenache</td>\n",
       "      <td>2.0</td>\n",
       "      <td>1</td>\n",
       "      <td>2</td>\n",
       "      <td>spanish-grenache</td>\n",
       "      <td>2.0</td>\n",
       "      <td>Spain</td>\n",
       "    </tr>\n",
       "    <tr>\n",
       "      <th>1</th>\n",
       "      <td>2</td>\n",
       "      <td>Australia</td>\n",
       "      <td>Australia</td>\n",
       "      <td>/wine-styles/australian-pinot-noir</td>\n",
       "      <td>4.0</td>\n",
       "      <td>1</td>\n",
       "      <td>2</td>\n",
       "      <td>australian-pinot-noir</td>\n",
       "      <td>4.0</td>\n",
       "      <td>Australia</td>\n",
       "    </tr>\n",
       "    <tr>\n",
       "      <th>2</th>\n",
       "      <td>2</td>\n",
       "      <td>Australia</td>\n",
       "      <td>Chile</td>\n",
       "      <td>/wine-styles/chilean-pinot-noir</td>\n",
       "      <td>1.0</td>\n",
       "      <td>1</td>\n",
       "      <td>2</td>\n",
       "      <td>chilean-pinot-noir</td>\n",
       "      <td>1.0</td>\n",
       "      <td>Chile</td>\n",
       "    </tr>\n",
       "    <tr>\n",
       "      <th>3</th>\n",
       "      <td>2</td>\n",
       "      <td>Australia</td>\n",
       "      <td>Germany</td>\n",
       "      <td>/wine-styles/german-spatburgunder</td>\n",
       "      <td>3.0</td>\n",
       "      <td>1</td>\n",
       "      <td>2</td>\n",
       "      <td>german-spatburgunder</td>\n",
       "      <td>3.0</td>\n",
       "      <td>Germany</td>\n",
       "    </tr>\n",
       "    <tr>\n",
       "      <th>4</th>\n",
       "      <td>2</td>\n",
       "      <td>Australia</td>\n",
       "      <td>New Zealand</td>\n",
       "      <td>/wine-styles/new-zealand-pinot-noir</td>\n",
       "      <td>4.0</td>\n",
       "      <td>1</td>\n",
       "      <td>2</td>\n",
       "      <td>new-zealand-pinot-noir</td>\n",
       "      <td>4.0</td>\n",
       "      <td>New Zealand</td>\n",
       "    </tr>\n",
       "  </tbody>\n",
       "</table>\n",
       "</div>"
      ],
      "text/plain": [
       "   user_id user_country  wine_region                       regional_style  \\\n",
       "0        2    Australia        Spain        /wine-styles/spanish-grenache   \n",
       "1        2    Australia    Australia   /wine-styles/australian-pinot-noir   \n",
       "2        2    Australia        Chile      /wine-styles/chilean-pinot-noir   \n",
       "3        2    Australia      Germany    /wine-styles/german-spatburgunder   \n",
       "4        2    Australia  New Zealand  /wine-styles/new-zealand-pinot-noir   \n",
       "\n",
       "   average_rating  number_ratings  user                    item  rating  \\\n",
       "0             2.0               1     2        spanish-grenache     2.0   \n",
       "1             4.0               1     2   australian-pinot-noir     4.0   \n",
       "2             1.0               1     2      chilean-pinot-noir     1.0   \n",
       "3             3.0               1     2    german-spatburgunder     3.0   \n",
       "4             4.0               1     2  new-zealand-pinot-noir     4.0   \n",
       "\n",
       "  item_country  \n",
       "0        Spain  \n",
       "1    Australia  \n",
       "2        Chile  \n",
       "3      Germany  \n",
       "4  New Zealand  "
      ]
     },
     "execution_count": 49,
     "metadata": {},
     "output_type": "execute_result"
    }
   ],
   "source": [
    "row_df.head()"
   ]
  },
  {
   "cell_type": "code",
   "execution_count": 50,
   "metadata": {},
   "outputs": [
    {
     "data": {
      "text/plain": [
       "2596567"
      ]
     },
     "execution_count": 50,
     "metadata": {},
     "output_type": "execute_result"
    }
   ],
   "source": [
    "len(row_df)"
   ]
  },
  {
   "cell_type": "code",
   "execution_count": 51,
   "metadata": {},
   "outputs": [
    {
     "data": {
      "text/plain": [
       "129351"
      ]
     },
     "execution_count": 51,
     "metadata": {},
     "output_type": "execute_result"
    }
   ],
   "source": [
    "len(row_df.groupby('user_id'))"
   ]
  },
  {
   "cell_type": "code",
   "execution_count": 52,
   "metadata": {},
   "outputs": [],
   "source": [
    "def get_user_df(df):\n",
    "    df['prod']=df['rating']*df['number_ratings']\n",
    "    all_users_counts=df[['user','rating']].groupby('user').count().rename(columns={'rating': 'count'})\n",
    "    all_users_means=df[['user','rating']].groupby('user').mean()\n",
    "    all_sums=df[['user','rating','number_ratings','prod']].groupby('user').sum()\n",
    "    all_users_means['weighted_rating']=all_sums['prod']/all_sums['number_ratings']\n",
    "    all_users_experience=df[['user','number_ratings']].groupby('user').sum().rename(columns={'number_ratings': 'exp'})\n",
    "    all_users_stds=df[['user','rating']].groupby('user').std().rename(columns={'rating': 'std'})\n",
    "    all_users_skews=df[['user','rating']].groupby('user').skew().rename(columns={'rating': 'skew'})\n",
    "    df_users=pd.concat((all_users_counts['count'],all_users_experience['exp'],all_users_means['rating'],all_users_means['weighted_rating'],all_users_stds['std'],all_users_skews['skew']),axis=1).rename(columns={'item': 'count', 'rating': 'pikiness', 'weighted_rating': 'weighted_pikiness'})\n",
    "    return df_users\n",
    "\n",
    "def get_item_df(df):\n",
    "    df['prod']=df['rating']*df['number_ratings']\n",
    "    df['pikiness_prod']=df['weighted_pikiness']*df['number_ratings']\n",
    "    all_counts=df[['item','rating']].groupby('item').count().rename(columns={'rating': 'count'})\n",
    "    all_means=df[['item','rating','pikiness']].groupby('item').mean()  \n",
    "    all_sums=df[['item','rating','number_ratings','prod','pikiness_prod']].groupby('item').sum()\n",
    "    all_sums['weighted_rating']=all_sums['prod']/all_sums['number_ratings']\n",
    "    all_sums['normalized_weighted_rating']=all_sums['prod']/all_sums['number_ratings']-all_sums['pikiness_prod']/all_sums['number_ratings']\n",
    "    df_items=pd.concat((all_counts['count'],all_means['rating'],all_sums['weighted_rating'],all_sums['normalized_weighted_rating']),axis=1).rename(columns={'count': 'item_rating_count', 'rating': 'item_rating_avg'})\n",
    "    return df_items"
   ]
  },
  {
   "cell_type": "code",
   "execution_count": 53,
   "metadata": {},
   "outputs": [],
   "source": [
    "def train_test_split(df,train_pct):\n",
    "    #df=row_df[row_df['number_ratings']>=wines_per_region_per_person][['user','item','rating','user_country','number_ratings']]\n",
    "    df_users=get_user_df(df)\n",
    "    df_with_users = df.merge(df_users, \n",
    "               how = 'inner',\n",
    "               left_on = 'user',\n",
    "               right_on = 'user')\n",
    "    df_items=get_item_df(df_with_users)\n",
    "    df = df_with_users.merge(df_items, \n",
    "               how = 'inner',\n",
    "               left_on = 'item',\n",
    "               right_on = 'item')\n",
    "    \n",
    "    split_point=int(round(len(df)*train_pct/100,0))\n",
    "    df = df.sample(frac = 1)\n",
    "    df_train=df.iloc[:split_point]\n",
    "    df_test=df.iloc[split_point:]\n",
    "    \n",
    "    return df_train,df_test,df"
   ]
  },
  {
   "cell_type": "code",
   "execution_count": 54,
   "metadata": {},
   "outputs": [],
   "source": [
    "regions_per_user_threshold=1\n",
    "wines_per_region_per_person=1\n",
    "train_pct=50"
   ]
  },
  {
   "cell_type": "code",
   "execution_count": 55,
   "metadata": {},
   "outputs": [],
   "source": [
    "df_train,df_test,df=train_test_split(row_df,train_pct)"
   ]
  },
  {
   "cell_type": "code",
   "execution_count": 56,
   "metadata": {},
   "outputs": [
    {
     "name": "stdout",
     "output_type": "stream",
     "text": [
      "1298284 1298283\n"
     ]
    }
   ],
   "source": [
    "print(len(df_train),len(df_test))"
   ]
  },
  {
   "cell_type": "code",
   "execution_count": 57,
   "metadata": {},
   "outputs": [],
   "source": [
    "df_users=get_user_df(df)"
   ]
  },
  {
   "cell_type": "code",
   "execution_count": 58,
   "metadata": {},
   "outputs": [
    {
     "data": {
      "text/html": [
       "<div>\n",
       "<style scoped>\n",
       "    .dataframe tbody tr th:only-of-type {\n",
       "        vertical-align: middle;\n",
       "    }\n",
       "\n",
       "    .dataframe tbody tr th {\n",
       "        vertical-align: top;\n",
       "    }\n",
       "\n",
       "    .dataframe thead th {\n",
       "        text-align: right;\n",
       "    }\n",
       "</style>\n",
       "<table border=\"1\" class=\"dataframe\">\n",
       "  <thead>\n",
       "    <tr style=\"text-align: right;\">\n",
       "      <th></th>\n",
       "      <th>count</th>\n",
       "      <th>exp</th>\n",
       "      <th>pikiness</th>\n",
       "      <th>weighted_pikiness</th>\n",
       "      <th>std</th>\n",
       "      <th>skew</th>\n",
       "    </tr>\n",
       "    <tr>\n",
       "      <th>user</th>\n",
       "      <th></th>\n",
       "      <th></th>\n",
       "      <th></th>\n",
       "      <th></th>\n",
       "      <th></th>\n",
       "      <th></th>\n",
       "    </tr>\n",
       "  </thead>\n",
       "  <tbody>\n",
       "    <tr>\n",
       "      <th>2</th>\n",
       "      <td>6</td>\n",
       "      <td>6</td>\n",
       "      <td>3.000000</td>\n",
       "      <td>3.000000</td>\n",
       "      <td>1.264911</td>\n",
       "      <td>-0.889391</td>\n",
       "    </tr>\n",
       "    <tr>\n",
       "      <th>4</th>\n",
       "      <td>42</td>\n",
       "      <td>121</td>\n",
       "      <td>3.876190</td>\n",
       "      <td>3.966942</td>\n",
       "      <td>0.575860</td>\n",
       "      <td>-0.795567</td>\n",
       "    </tr>\n",
       "    <tr>\n",
       "      <th>6</th>\n",
       "      <td>8</td>\n",
       "      <td>10</td>\n",
       "      <td>3.412500</td>\n",
       "      <td>3.360000</td>\n",
       "      <td>0.538351</td>\n",
       "      <td>-0.531163</td>\n",
       "    </tr>\n",
       "    <tr>\n",
       "      <th>9</th>\n",
       "      <td>6</td>\n",
       "      <td>7</td>\n",
       "      <td>3.633333</td>\n",
       "      <td>3.585714</td>\n",
       "      <td>0.432049</td>\n",
       "      <td>-0.541439</td>\n",
       "    </tr>\n",
       "    <tr>\n",
       "      <th>30</th>\n",
       "      <td>107</td>\n",
       "      <td>301</td>\n",
       "      <td>3.787850</td>\n",
       "      <td>3.783056</td>\n",
       "      <td>0.548705</td>\n",
       "      <td>-0.134867</td>\n",
       "    </tr>\n",
       "  </tbody>\n",
       "</table>\n",
       "</div>"
      ],
      "text/plain": [
       "      count  exp  pikiness  weighted_pikiness       std      skew\n",
       "user                                                             \n",
       "2         6    6  3.000000           3.000000  1.264911 -0.889391\n",
       "4        42  121  3.876190           3.966942  0.575860 -0.795567\n",
       "6         8   10  3.412500           3.360000  0.538351 -0.531163\n",
       "9         6    7  3.633333           3.585714  0.432049 -0.541439\n",
       "30      107  301  3.787850           3.783056  0.548705 -0.134867"
      ]
     },
     "execution_count": 58,
     "metadata": {},
     "output_type": "execute_result"
    }
   ],
   "source": [
    "df_users.head()"
   ]
  },
  {
   "cell_type": "code",
   "execution_count": 59,
   "metadata": {},
   "outputs": [],
   "source": [
    "df_items_train=get_item_df(df_train) #.sort_values('item_rating_avg',ascending=False)"
   ]
  },
  {
   "cell_type": "code",
   "execution_count": 60,
   "metadata": {},
   "outputs": [],
   "source": [
    "df_items_test=get_item_df(df_test) #.sort_values('item_rating_avg',ascending=False)"
   ]
  },
  {
   "cell_type": "markdown",
   "metadata": {},
   "source": [
    "# random sampling"
   ]
  },
  {
   "cell_type": "code",
   "execution_count": 61,
   "metadata": {},
   "outputs": [],
   "source": [
    "def top_x_precision(df_items_train,df_items_test,x,relevant_threshold):\n",
    "    recs=(df_items_train).sort_values('normalized_weighted_rating',ascending=False)[0:x]\n",
    "    relevant=(df_items_test).sort_values('normalized_weighted_rating',ascending=False)[0:relevant_threshold]\n",
    "    precision=len(recs.index.intersection(relevant.index))/(x)\n",
    "    return precision\n"
   ]
  },
  {
   "cell_type": "code",
   "execution_count": 62,
   "metadata": {},
   "outputs": [
    {
     "data": {
      "text/plain": [
       "1.0"
      ]
     },
     "execution_count": 62,
     "metadata": {},
     "output_type": "execute_result"
    }
   ],
   "source": [
    "top_x_precision(df_items_train,df_items_test,10,100)"
   ]
  },
  {
   "cell_type": "code",
   "execution_count": 63,
   "metadata": {},
   "outputs": [],
   "source": [
    "def get_precision_array(df_items_test,df_train,rater_condition,num_samples,top_x_threshold,relevant_threshold):\n",
    "    sample=df_train[rater_condition].sample(num_samples).index\n",
    "    rater_condition_train=(df_train.index.isin(sample))\n",
    "    df_items_train_sample=get_item_df(df_train[rater_condition_train]).sort_values('normalized_weighted_rating',ascending=False)\n",
    "    precisions=[]\n",
    "    for x in range(10,top_x_threshold+1,10):\n",
    "        precisions.append(top_x_precision(df_items_train_sample,df_items_test,x,relevant_threshold))\n",
    "    return np.array(precisions)\n",
    "\n",
    "def get_recall_array(df_items_test,df_train,rater_condition,num_samples,top_x_threshold,relevant_threshold):\n",
    "    sample=df_train[rater_condition].sample(num_samples).index\n",
    "    rater_condition_train=(df_train.index.isin(sample))\n",
    "    df_items_train_sample=get_item_df(df_train[rater_condition_train]).sort_values('normalized_weighted_rating',ascending=False)\n",
    "    precisions=[]\n",
    "    for x in range(10,top_x_threshold+1,10):\n",
    "        precisions.append(top_x_recall(df_items_train_sample,df_items_test,x,relevant_threshold))\n",
    "    return np.array(precisions)"
   ]
  },
  {
   "cell_type": "code",
   "execution_count": 64,
   "metadata": {},
   "outputs": [],
   "source": [
    "def plot_precisions(df_items_test,df_train,rater_condition,num_samples,n,label,top_x_threshold,relevant_threshold):\n",
    "    lst=[]\n",
    "    for i in range(0,n):\n",
    "        lst.append(get_precision_array(df_items_test,df_train,rater_condition,num_samples,top_x_threshold,relevant_threshold))\n",
    "    #print(lst)\n",
    "    means=np.mean(lst, axis=0)\n",
    "    stds=np.std(lst, axis=0)/np.sqrt(n)\n",
    "    plt.errorbar(range(10,top_x_threshold+1,10),means,yerr=stds,label=label)\n",
    "\n",
    "def plot_recalls(df_items_test,df_train,rater_condition,num_samples,n,label,top_x_threshold,relevant_threshold):\n",
    "    lst=[]\n",
    "    for i in range(0,n):\n",
    "        lst.append(get_recall_array(df_items_test,df_train,rater_condition,num_samples,top_x_threshold,relevant_threshold))\n",
    "    means=np.mean(lst, axis=0)\n",
    "    stds=np.std(lst, axis=0)/np.sqrt(n)\n",
    "    plt.errorbar(range(10,top_x_threshold+1,10),means,yerr=stds,label=label)"
   ]
  },
  {
   "cell_type": "code",
   "execution_count": 65,
   "metadata": {},
   "outputs": [
    {
     "data": {
      "text/plain": [
       "3.6227286704685424"
      ]
     },
     "execution_count": 65,
     "metadata": {},
     "output_type": "execute_result"
    }
   ],
   "source": [
    "df_train['pikiness'].mean()"
   ]
  },
  {
   "cell_type": "code",
   "execution_count": 66,
   "metadata": {},
   "outputs": [
    {
     "data": {
      "text/plain": [
       "183.44446438529627"
      ]
     },
     "execution_count": 66,
     "metadata": {},
     "output_type": "execute_result"
    }
   ],
   "source": [
    "df_train['exp'].mean()"
   ]
  },
  {
   "cell_type": "code",
   "execution_count": 67,
   "metadata": {},
   "outputs": [
    {
     "data": {
      "text/plain": [
       "3.2839733063027814"
      ]
     },
     "execution_count": 67,
     "metadata": {},
     "output_type": "execute_result"
    }
   ],
   "source": [
    "df_train['number_ratings'].mean()"
   ]
  },
  {
   "cell_type": "code",
   "execution_count": 68,
   "metadata": {},
   "outputs": [
    {
     "data": {
      "text/plain": [
       "44.09868179843547"
      ]
     },
     "execution_count": 68,
     "metadata": {},
     "output_type": "execute_result"
    }
   ],
   "source": [
    "df_train['count'].mean()"
   ]
  },
  {
   "cell_type": "code",
   "execution_count": 69,
   "metadata": {},
   "outputs": [],
   "source": [
    "relevant_threshold=50\n",
    "top_x_threshold=50\n",
    "num_iterations=100"
   ]
  },
  {
   "cell_type": "code",
   "execution_count": 70,
   "metadata": {},
   "outputs": [],
   "source": [
    "df_items_200=df_items_test.sort_values('item_rating_count',ascending=False).head(200)"
   ]
  },
  {
   "cell_type": "code",
   "execution_count": 71,
   "metadata": {},
   "outputs": [
    {
     "data": {
      "text/plain": [
       "Text(0.5, 1.0, 'Precision @ K (relevancy threshold=50)')"
      ]
     },
     "execution_count": 71,
     "metadata": {},
     "output_type": "execute_result"
    },
    {
     "data": {
      "image/png": "[encoded data removed]",
      "text/plain": [
       "<Figure size 640x480 with 1 Axes>"
      ]
     },
     "metadata": {},
     "output_type": "display_data"
    }
   ],
   "source": [
    "rater_condition=(df_train['number_ratings']>0)\n",
    "plot_precisions(df_items_200,df_train,rater_condition,1000,num_iterations,'1000 samples',top_x_threshold,relevant_threshold)\n",
    "rater_condition=(df_train['number_ratings']>0)\n",
    "plot_precisions(df_items_200,df_train,rater_condition,20000,num_iterations,'20000 samples',top_x_threshold,relevant_threshold)\n",
    "rater_condition=(df_train['pikiness']<3.5)\n",
    "plot_precisions(df_items_200,df_train,rater_condition,1000,num_iterations,'mean < 3.5, 1000 samples',top_x_threshold,relevant_threshold)\n",
    "rater_condition=(df_train['pikiness']<3.5)\n",
    "plot_precisions(df_items_200,df_train,rater_condition,20000,num_iterations,'mean < 3.5, 20000 samples',top_x_threshold,relevant_threshold)\n",
    "plt.xlabel('k')\n",
    "plt.ylabel('precision @ k')\n",
    "plt.legend(loc='upper right')\n",
    "plt.ylim([0.2,0.9])\n",
    "plt.title('Precision @ K (relevancy threshold='+str(relevant_threshold)+')')"
   ]
  },
  {
   "cell_type": "code",
   "execution_count": 72,
   "metadata": {},
   "outputs": [
    {
     "data": {
      "text/plain": [
       "Text(0.5, 1.0, 'Precision @ K (relevancy threshold=50)')"
      ]
     },
     "execution_count": 72,
     "metadata": {},
     "output_type": "execute_result"
    },
    {
     "data": {
      "image/png": "[encoded data removed]",
      "text/plain": [
       "<Figure size 640x480 with 1 Axes>"
      ]
     },
     "metadata": {},
     "output_type": "display_data"
    }
   ],
   "source": [
    "rater_condition=(df_train['number_ratings']>0)\n",
    "plot_precisions(df_items_200,df_train,rater_condition,1000,num_iterations,'1,000 samples',top_x_threshold,relevant_threshold)\n",
    "rater_condition=(df_train['number_ratings']>0)\n",
    "plot_precisions(df_items_200,df_train,rater_condition,20000,num_iterations,'20,000 samples',top_x_threshold,relevant_threshold)\n",
    "rater_condition=(df_train['exp']>200)\n",
    "plot_precisions(df_items_200,df_train,rater_condition,1000,num_iterations,'exp > 200, 1000 samples',top_x_threshold,relevant_threshold)\n",
    "rater_condition=(df_train['exp']>200)\n",
    "plot_precisions(df_items_200,df_train,rater_condition,20000,num_iterations,'exp > 200, 20,000 samples',top_x_threshold,relevant_threshold)\n",
    "plt.xlabel('k')\n",
    "plt.ylabel('precision @ k')\n",
    "plt.legend(loc='upper right')\n",
    "plt.ylim([0.2,0.9])\n",
    "plt.title('Precision @ K (relevancy threshold='+str(relevant_threshold)+')')"
   ]
  },
  {
   "cell_type": "code",
   "execution_count": null,
   "metadata": {},
   "outputs": [],
   "source": [
    "rater_condition=(df_train['number_ratings']>0)\n",
    "plot_precisions(df_items_200,df_train,rater_condition,1000,num_iterations,'1,000 samples',top_x_threshold,relevant_threshold)\n",
    "rater_condition=(df_train['number_ratings']>0)\n",
    "plot_precisions(df_items_200,df_train,rater_condition,20000,num_iterations,'20,000 samples',top_x_threshold,relevant_threshold)\n",
    "rater_condition=(df_train['number_ratings']>=10) \n",
    "plot_precisions(df_items_200,df_train,rater_condition,1000,num_iterations,'local exp >=10, 1,000 samples',top_x_threshold,relevant_threshold)\n",
    "rater_condition=(df_train['number_ratings']>=10)\n",
    "plot_precisions(df_items_200,df_train,rater_condition,20000,num_iterations,'local exp >=10, 20,000 samples',top_x_threshold,relevant_threshold)\n",
    "plt.xlabel('k')\n",
    "plt.ylabel('precision @ k')\n",
    "plt.legend(loc='upper right')\n",
    "plt.ylim([0.2,0.9])\n",
    "plt.title('Precision @ K (relevancy threshold='+str(relevant_threshold)+')')"
   ]
  },
  {
   "cell_type": "code",
   "execution_count": null,
   "metadata": {},
   "outputs": [],
   "source": [
    "rater_condition=(df_train['number_ratings']>0)\n",
    "plot_precisions(df_items_200,df_train,rater_condition,1000,num_iterations,'1,000 samples',top_x_threshold,relevant_threshold)\n",
    "rater_condition=(df_train['pikiness']<3.5)\n",
    "plot_precisions(df_items_200,df_train,rater_condition,1000,num_iterations,'mean < 3.5, 1000 samples',top_x_threshold,relevant_threshold)\n",
    "rater_condition=(df_train['exp']>200)\n",
    "plot_precisions(df_items_200,df_train,rater_condition,1000,num_iterations,'exp > 200, 1000 samples',top_x_threshold,relevant_threshold)\n",
    "rater_condition=(df_train['number_ratings']>=10)\n",
    "plot_precisions(df_items_200,df_train,rater_condition,1000,num_iterations,'loc_exp>=10, 1000 samples',top_x_threshold,relevant_threshold)\n",
    "rater_condition=(df_train['exp']>200) & (df_train['number_ratings']>=10)\n",
    "plot_precisions(df_items_200,df_train,rater_condition,1000,num_iterations,'exp > 200, loc_exp>=10, 1000 samples',top_x_threshold,relevant_threshold)\n",
    "plt.xlabel('k')\n",
    "plt.ylabel('precision @ k')\n",
    "plt.legend(loc='lower right')\n",
    "plt.ylim([0.2,0.9])\n",
    "plt.title('Precision @ K (relevancy threshold='+str(relevant_threshold)+')')"
   ]
  },
  {
   "cell_type": "markdown",
   "metadata": {},
   "source": [
    "# what are the best regions according to Qualified Regional Ratings?"
   ]
  },
  {
   "cell_type": "code",
   "execution_count": null,
   "metadata": {},
   "outputs": [],
   "source": [
    "# all raters\n",
    "df_items_all=get_item_df(df)\n",
    "top50_all_raters=df_items_all.sort_values(by='weighted_rating',ascending=False).head(50).index\n",
    "top50_all_raters"
   ]
  },
  {
   "cell_type": "code",
   "execution_count": null,
   "metadata": {},
   "outputs": [],
   "source": [
    "rater_condition= (df['number_ratings']>=10) \n",
    "df_items_condition=get_item_df(df[rater_condition])\n",
    "top50_qualified_raters=df_items_condition.sort_values(by='weighted_rating',ascending=False).head(50)"
   ]
  },
  {
   "cell_type": "code",
   "execution_count": null,
   "metadata": {},
   "outputs": [],
   "source": [
    "df_filtered = top50_qualified_raters[~top50_qualified_raters.index.isin(top50_all_raters)]\n",
    "df_filtered[['item_rating_count','weighted_rating']].iloc[0:10]"
   ]
  }
 ],
 "metadata": {
  "kernelspec": {
   "display_name": "Python 3 (ipykernel)",
   "language": "python",
   "name": "python3"
  },
  "language_info": {
   "codemirror_mode": {
    "name": "ipython",
    "version": 3
   },
   "file_extension": ".py",
   "mimetype": "text/x-python",
   "name": "python",
   "nbconvert_exporter": "python",
   "pygments_lexer": "ipython3",
   "version": "3.12.4"
  }
 },
 "nbformat": 4,
 "nbformat_minor": 4
}
